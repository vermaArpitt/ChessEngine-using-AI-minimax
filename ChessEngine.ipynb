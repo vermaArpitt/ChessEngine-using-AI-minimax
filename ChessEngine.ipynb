{
 "cells": [
  {
   "cell_type": "code",
   "execution_count": 1,
   "id": "96f1b3ba-7aae-466e-aebd-d2ee07f6ff70",
   "metadata": {},
   "outputs": [],
   "source": [
    "class GameState():\n",
    "    def __init__(self):\n",
    "        self.board = [\n",
    "            ['bR','bN','bB','bQ','bK','bB','bN','bR'],\n",
    "            ['bp' for _ in range(8)],\n",
    "            ['--' for _ in range(8)],\n",
    "            ['--' for _ in range(8)],\n",
    "            ['--' for _ in range(8)],\n",
    "            ['--' for _ in range(8)],\n",
    "            ['wp' for _ in range(8)],\n",
    "            ['wR','wN','wB','wQ','wK','wB','wN','wR'],\n",
    "        ]\n",
    "        self.whiteToMove = True\n",
    "        self.eventLog = []"
   ]
  }
 ],
 "metadata": {
  "kernelspec": {
   "display_name": "Python 3 (ipykernel)",
   "language": "python",
   "name": "python3"
  },
  "language_info": {
   "codemirror_mode": {
    "name": "ipython",
    "version": 3
   },
   "file_extension": ".py",
   "mimetype": "text/x-python",
   "name": "python",
   "nbconvert_exporter": "python",
   "pygments_lexer": "ipython3",
   "version": "3.12.3"
  }
 },
 "nbformat": 4,
 "nbformat_minor": 5
}
