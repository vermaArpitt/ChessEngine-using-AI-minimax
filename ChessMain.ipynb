{
 "cells": [
  {
   "cell_type": "code",
   "execution_count": 8,
   "id": "ed33da4b-6ad3-417c-a7ef-cac06725a4f3",
   "metadata": {},
   "outputs": [],
   "source": [
    "import pygame as p\n",
    "%run ChessEngine.ipynb\n",
    "\n",
    "WIDTH = HEIGHT = 512\n",
    "CELLS = 8\n",
    "SQ_SIZE = HEIGHT // CELLS\n",
    "IMAGES = {}"
   ]
  },
  {
   "cell_type": "code",
   "execution_count": 9,
   "id": "3585c4f0-6ebf-4026-932b-a7462241d40c",
   "metadata": {},
   "outputs": [],
   "source": [
    "def loadImages():\n",
    "    pieces = ['bR','bN','bB','bQ','bK','bp','wR','wN','wB','wQ','wK','wp']\n",
    "    for piece in pieces:\n",
    "        IMAGES[piece] = p.image.load(\"images/\" + piece + \".png\")"
   ]
  },
  {
   "cell_type": "code",
   "execution_count": 10,
   "id": "9bf904e0-50b2-48e0-8102-ee27e19e5fda",
   "metadata": {},
   "outputs": [],
   "source": [
    "def main():\n",
    "    p.init()\n",
    "    screen = p.display.set_mode((WIDTH, HEIGHT))\n",
    "    running = True\n",
    "    gs = GameState()\n",
    "    # print(gs.board)\n",
    "    loadImages()\n",
    "    \n",
    "    while running:\n",
    "        for event in p.event.get():\n",
    "            if event.type == p.QUIT:\n",
    "                running = False\n",
    "        p.display.flip() \n",
    "    p.quit()"
   ]
  },
  {
   "cell_type": "code",
   "execution_count": null,
   "id": "abb96c99-9ba7-4e24-8549-2dce2c1db08b",
   "metadata": {},
   "outputs": [],
   "source": [
    "def drawGameState(screen, gs):\n",
    "     "
   ]
  },
  {
   "cell_type": "code",
   "execution_count": 11,
   "id": "293dd484-5c91-4baa-8ef6-9022d898ddd7",
   "metadata": {},
   "outputs": [
    {
     "name": "stdout",
     "output_type": "stream",
     "text": [
      "[['bR', 'bN', 'bB', 'bQ', 'bK', 'bB', 'bN', 'bR'], ['bp', 'bp', 'bp', 'bp', 'bp', 'bp', 'bp', 'bp'], ['--', '--', '--', '--', '--', '--', '--', '--'], ['--', '--', '--', '--', '--', '--', '--', '--'], ['--', '--', '--', '--', '--', '--', '--', '--'], ['--', '--', '--', '--', '--', '--', '--', '--'], ['wp', 'wp', 'wp', 'wp', 'wp', 'wp', 'wp', 'wp'], ['wR', 'wN', 'wB', 'wQ', 'wK', 'wB', 'wN', 'wR']]\n"
     ]
    }
   ],
   "source": [
    "if __name__ == \"__main__\":\n",
    "    main()"
   ]
  },
  {
   "cell_type": "code",
   "execution_count": null,
   "id": "0ba93125-8979-4173-8e17-2f2c4903b570",
   "metadata": {},
   "outputs": [],
   "source": []
  }
 ],
 "metadata": {
  "kernelspec": {
   "display_name": "Python 3 (ipykernel)",
   "language": "python",
   "name": "python3"
  },
  "language_info": {
   "codemirror_mode": {
    "name": "ipython",
    "version": 3
   },
   "file_extension": ".py",
   "mimetype": "text/x-python",
   "name": "python",
   "nbconvert_exporter": "python",
   "pygments_lexer": "ipython3",
   "version": "3.12.3"
  }
 },
 "nbformat": 4,
 "nbformat_minor": 5
}
