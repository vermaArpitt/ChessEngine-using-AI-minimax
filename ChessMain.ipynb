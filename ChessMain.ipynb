{
 "cells": [
  {
   "cell_type": "code",
   "execution_count": 1,
   "id": "ed33da4b-6ad3-417c-a7ef-cac06725a4f3",
   "metadata": {},
   "outputs": [
    {
     "name": "stdout",
     "output_type": "stream",
     "text": [
      "pygame 2.5.2 (SDL 2.28.3, Python 3.12.3)\n",
      "Hello from the pygame community. https://www.pygame.org/contribute.html\n"
     ]
    }
   ],
   "source": [
    "import pygame as p\n",
    "%run ChessEngine.ipynb\n",
    "%run ChessAI.ipynb\n",
    "\n",
    "WIDTH = HEIGHT = 512\n",
    "CELLS = 8\n",
    "SQ_SIZE = HEIGHT // CELLS\n",
    "MAX_FPS = 15\n",
    "IMAGES = {}\n",
    "GREEN = (76, 153, 0)\n",
    "WHITE = (229, 255, 204)"
   ]
  },
  {
   "cell_type": "code",
   "execution_count": 2,
   "id": "3585c4f0-6ebf-4026-932b-a7462241d40c",
   "metadata": {},
   "outputs": [],
   "source": [
    "def loadImages():\n",
    "    pieces = ['bR','bN','bB','bQ','bK','bp','wR','wN','wB','wQ','wK','wp']\n",
    "    for piece in pieces:\n",
    "        IMAGES[piece] = p.image.load(\"images/\" + piece + \".png\")"
   ]
  },
  {
   "cell_type": "code",
   "execution_count": 3,
   "id": "9bf904e0-50b2-48e0-8102-ee27e19e5fda",
   "metadata": {},
   "outputs": [],
   "source": [
    "def main():\n",
    "    p.init()\n",
    "    screen = p.display.set_mode((WIDTH, HEIGHT))\n",
    "    clock = p.time.Clock()\n",
    "    running = True\n",
    "    gs = GameState()\n",
    "    # print(gs.board)\n",
    "    validMoves = gs.getValidMoves()\n",
    "    moveMade = False #to check if a move is made or not and only generate valid moves when a move is made\n",
    "    loadImages()\n",
    "\n",
    "    sqSelected = ()\n",
    "    playerClicks = []\n",
    "    gameOver = False\n",
    "    playerOne = True #if human playing white, then true; if AI white then false\n",
    "    playerTwo = False #if human playing black, then true; if AI black then false\n",
    "    \n",
    "    while running:\n",
    "        isHumanTurn = (gs.whiteToMove and playerOne) or (not gs.whiteToMove and playerTwo)\n",
    "        for event in p.event.get():\n",
    "            if event.type == p.QUIT:\n",
    "                running = False\n",
    "            #mouse handlersss\n",
    "            elif event.type == p.MOUSEBUTTONDOWN:\n",
    "                if not gameOver and isHumanTurn:\n",
    "                    location = p.mouse.get_pos()\n",
    "                    col = location[0] // SQ_SIZE\n",
    "                    row = location[1] // SQ_SIZE\n",
    "                    if sqSelected == (row, col):\n",
    "                        sqSelected = ()\n",
    "                        playerClicks = []\n",
    "                    else:\n",
    "                        sqSelected = (row, col)\n",
    "                        playerClicks.append(sqSelected)\n",
    "                    if len(playerClicks) == 2:\n",
    "                        move = Move(playerClicks[0], playerClicks[1], gs.board)\n",
    "                        if move in validMoves:\n",
    "                            gs.makeMove(move)\n",
    "                            print(move.getNotation())\n",
    "                            moveMade = True\n",
    "                            playerClicks = []\n",
    "                            sqSelected = ()\n",
    "                        else:\n",
    "                            playerClicks = [sqSelected]\n",
    "            #key handlers\n",
    "            elif event.type == p.KEYDOWN:\n",
    "                if event.key == p.K_z:   #undo move with key press Z\n",
    "                    gs.undoMove()\n",
    "                    moveMade = True\n",
    "                    print(\"Undo last move\")\n",
    "\n",
    "        ##Moves for AI\n",
    "        if not gameOver and not isHumanTurn:\n",
    "            AIMove = findRandomMove(validMoves)\n",
    "            \n",
    "            gs.makeMove(AIMove)\n",
    "            print(gs.getNotation(AIMove))\n",
    "            moveMade = True\n",
    "            \n",
    "        if moveMade:\n",
    "            validMoves = gs.getValidMoves()\n",
    "            moveMade = False\n",
    "            \n",
    "        drawGameState(screen, gs, validMoves, sqSelected)\n",
    "\n",
    "        if gs.checkMate:\n",
    "            gameOver = True\n",
    "            if gs.whiteToMove:\n",
    "                drawText(screen, \"Black wins by Check Mate\")\n",
    "            else:\n",
    "                drawText(screen, \"White wins by Check Mate\")\n",
    "        elif gs.staleMate:\n",
    "            gameOver = True\n",
    "            drawText(screen, \"Draw by Stalemate\")\n",
    "            \n",
    "        clock.tick(MAX_FPS)\n",
    "        p.display.flip() \n",
    "    p.quit()"
   ]
  },
  {
   "cell_type": "code",
   "execution_count": 4,
   "id": "abdc531b-a25d-4c7e-8354-4f0628e5f596",
   "metadata": {},
   "outputs": [],
   "source": [
    "def highlightSquares(screen, gs, validMoves, sqSelected):\n",
    "    if sqSelected != ():\n",
    "        row, col = sqSelected\n",
    "        if gs.board[row][col][0] == ('w' if gs.whiteToMove else 'b'):\n",
    "            s = p.Surface((SQ_SIZE, SQ_SIZE))\n",
    "            s.set_alpha(100) #transparency\n",
    "            s.fill(p.Color(\"blue\"))\n",
    "            screen.blit(s, (col * SQ_SIZE, row * SQ_SIZE))\n",
    "            s.fill(p.Color(\"yellow\"))\n",
    "            for move in validMoves:\n",
    "                if move.startRow == row and move.startCol == col:\n",
    "                    screen.blit(s, (move.endCol * SQ_SIZE, move.endRow * SQ_SIZE))"
   ]
  },
  {
   "cell_type": "code",
   "execution_count": 5,
   "id": "abb96c99-9ba7-4e24-8549-2dce2c1db08b",
   "metadata": {},
   "outputs": [],
   "source": [
    "def drawGameState(screen, gs, validMoves, sqSelected):\n",
    "    drawSquares(screen)\n",
    "    highlightSquares(screen, gs, validMoves, sqSelected)\n",
    "    drawPieces(screen, gs.board)\n",
    "    "
   ]
  },
  {
   "cell_type": "code",
   "execution_count": 6,
   "id": "0d554fae-d700-4968-ac74-3cbc31d4139f",
   "metadata": {},
   "outputs": [],
   "source": [
    "def drawSquares(screen):\n",
    "    colors = [p.Color(WHITE),p.Color(GREEN)]\n",
    "    for row in range(CELLS):\n",
    "        for col in range(CELLS):\n",
    "            color = colors[(row + col) % 2]\n",
    "            p.draw.rect(screen, color, p.Rect(col * SQ_SIZE, row * SQ_SIZE, SQ_SIZE, SQ_SIZE))"
   ]
  },
  {
   "cell_type": "code",
   "execution_count": 7,
   "id": "b013344a-1079-44d1-8397-86fd9a2e988a",
   "metadata": {},
   "outputs": [],
   "source": [
    "def drawPieces(screen, board):\n",
    "    for row in range(CELLS):\n",
    "        for col in range(CELLS):\n",
    "            piece = board[row][col]\n",
    "            if piece != \"--\":\n",
    "                screen.blit(IMAGES[piece], p.Rect(col * SQ_SIZE, row * SQ_SIZE, SQ_SIZE, SQ_SIZE))\n",
    "                "
   ]
  },
  {
   "cell_type": "code",
   "execution_count": 8,
   "id": "361216d9-dd52-4f64-b2ea-a02bd4b2b2d8",
   "metadata": {},
   "outputs": [],
   "source": [
    "def drawText(screen, text):\n",
    "    font = p.font.SysFont(\"Helvitca\", 32, True, False)\n",
    "    textObject = font.render(text, 0, p.Color(\"black\"))\n",
    "    textLocation = p.Rect(0, 0, WIDTH, HEIGHT).move(WIDTH/2 - textObject.get_width()/2, HEIGHT/2 - textObject.get_height()/2)\n",
    "    screen.blit(textObject, textLocation)"
   ]
  },
  {
   "cell_type": "code",
   "execution_count": 9,
   "id": "293dd484-5c91-4baa-8ef6-9022d898ddd7",
   "metadata": {},
   "outputs": [
    {
     "name": "stdout",
     "output_type": "stream",
     "text": [
      "e2e4\n",
      "d2d4\n",
      "e4e5\n"
     ]
    }
   ],
   "source": [
    "if __name__ == \"__main__\":\n",
    "    main()"
   ]
  },
  {
   "cell_type": "code",
   "execution_count": null,
   "id": "0ba93125-8979-4173-8e17-2f2c4903b570",
   "metadata": {},
   "outputs": [],
   "source": []
  }
 ],
 "metadata": {
  "kernelspec": {
   "display_name": "Python 3 (ipykernel)",
   "language": "python",
   "name": "python3"
  },
  "language_info": {
   "codemirror_mode": {
    "name": "ipython",
    "version": 3
   },
   "file_extension": ".py",
   "mimetype": "text/x-python",
   "name": "python",
   "nbconvert_exporter": "python",
   "pygments_lexer": "ipython3",
   "version": "3.12.3"
  }
 },
 "nbformat": 4,
 "nbformat_minor": 5
}
