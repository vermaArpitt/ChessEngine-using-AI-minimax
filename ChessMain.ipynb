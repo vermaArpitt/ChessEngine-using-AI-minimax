{
 "cells": [
  {
   "cell_type": "code",
   "execution_count": 1,
   "id": "ed33da4b-6ad3-417c-a7ef-cac06725a4f3",
   "metadata": {},
   "outputs": [
    {
     "name": "stdout",
     "output_type": "stream",
     "text": [
      "pygame 2.5.2 (SDL 2.28.3, Python 3.12.3)\n",
      "Hello from the pygame community. https://www.pygame.org/contribute.html\n"
     ]
    }
   ],
   "source": [
    "import pygame as p\n",
    "%run ChessEngine.ipynb\n",
    "\n",
    "WIDTH = HEIGHT = 512\n",
    "CELLS = 8\n",
    "SQ_SIZE = HEIGHT // CELLS\n",
    "MAX_FPS = 15\n",
    "IMAGES = {}\n",
    "GREEN = (76, 153, 0)\n",
    "WHITE = (229, 255, 204)"
   ]
  },
  {
   "cell_type": "code",
   "execution_count": 2,
   "id": "3585c4f0-6ebf-4026-932b-a7462241d40c",
   "metadata": {},
   "outputs": [],
   "source": [
    "def loadImages():\n",
    "    pieces = ['bR','bN','bB','bQ','bK','bp','wR','wN','wB','wQ','wK','wp']\n",
    "    for piece in pieces:\n",
    "        IMAGES[piece] = p.image.load(\"images/\" + piece + \".png\")"
   ]
  },
  {
   "cell_type": "code",
   "execution_count": 3,
   "id": "9bf904e0-50b2-48e0-8102-ee27e19e5fda",
   "metadata": {},
   "outputs": [],
   "source": [
    "def main():\n",
    "    p.init()\n",
    "    screen = p.display.set_mode((WIDTH, HEIGHT))\n",
    "    clock = p.time.Clock()\n",
    "    running = True\n",
    "    gs = GameState()\n",
    "    # print(gs.board)\n",
    "    validMoves = gs.getValidMoves()\n",
    "    moveMade = False #to check if a move is made or not and only generate valid moves when a move is made\n",
    "    loadImages()\n",
    "\n",
    "    sqSelected = ()\n",
    "    playerClicks = []\n",
    "    while running:\n",
    "        for event in p.event.get():\n",
    "            if event.type == p.QUIT:\n",
    "                running = False\n",
    "            #mouse handlersss\n",
    "            elif event.type == p.MOUSEBUTTONDOWN:\n",
    "                location = p.mouse.get_pos()\n",
    "                col = location[0] // SQ_SIZE\n",
    "                row = location[1] // SQ_SIZE\n",
    "                if sqSelected == (row, col):\n",
    "                    sqSelected = ()\n",
    "                    playerClicks = []\n",
    "                else:\n",
    "                    sqSelected = (row, col)\n",
    "                    playerClicks.append(sqSelected)\n",
    "                if len(playerClicks) == 2:\n",
    "                    move = Move(playerClicks[0], playerClicks[1], gs.board)\n",
    "                    if move in validMoves:\n",
    "                        gs.makeMove(move)\n",
    "                        print(move.getNotation())\n",
    "                        moveMade = True\n",
    "                        playerClicks = []\n",
    "                        sqSelected = ()\n",
    "                    else:\n",
    "                        playerClicks = [sqSelected]\n",
    "            #key handlers\n",
    "            elif event.type == p.KEYDOWN:\n",
    "                if event.key == p.K_z:   #undo move with key press Z\n",
    "                    gs.undoMove()\n",
    "                    moveMade = True\n",
    "                    print(\"Undo last move\")\n",
    "\n",
    "        if moveMade:\n",
    "            validMoves = gs.getValidMoves()\n",
    "            moveMade = False\n",
    "            \n",
    "        drawGameState(screen, gs)\n",
    "        clock.tick(MAX_FPS)\n",
    "        p.display.flip() \n",
    "    p.quit()"
   ]
  },
  {
   "cell_type": "code",
   "execution_count": 4,
   "id": "abb96c99-9ba7-4e24-8549-2dce2c1db08b",
   "metadata": {},
   "outputs": [],
   "source": [
    "def drawGameState(screen, gs):\n",
    "    drawSquares(screen)\n",
    "    drawPieces(screen, gs.board)\n",
    "    "
   ]
  },
  {
   "cell_type": "code",
   "execution_count": 5,
   "id": "0d554fae-d700-4968-ac74-3cbc31d4139f",
   "metadata": {},
   "outputs": [],
   "source": [
    "def drawSquares(screen):\n",
    "    colors = [p.Color(WHITE),p.Color(GREEN)]\n",
    "    for row in range(CELLS):\n",
    "        for col in range(CELLS):\n",
    "            color = colors[(row + col) % 2]\n",
    "            p.draw.rect(screen, color, p.Rect(col * SQ_SIZE, row * SQ_SIZE, SQ_SIZE, SQ_SIZE))"
   ]
  },
  {
   "cell_type": "code",
   "execution_count": 6,
   "id": "b013344a-1079-44d1-8397-86fd9a2e988a",
   "metadata": {},
   "outputs": [],
   "source": [
    "def drawPieces(screen, board):\n",
    "    for row in range(CELLS):\n",
    "        for col in range(CELLS):\n",
    "            piece = board[row][col]\n",
    "            if piece != \"--\":\n",
    "                screen.blit(IMAGES[piece], p.Rect(col * SQ_SIZE, row * SQ_SIZE, SQ_SIZE, SQ_SIZE))\n",
    "                "
   ]
  },
  {
   "cell_type": "code",
   "execution_count": 7,
   "id": "293dd484-5c91-4baa-8ef6-9022d898ddd7",
   "metadata": {},
   "outputs": [
    {
     "ename": "NameError",
     "evalue": "name 'd' is not defined",
     "output_type": "error",
     "traceback": [
      "\u001b[1;31m---------------------------------------------------------------------------\u001b[0m",
      "\u001b[1;31mNameError\u001b[0m                                 Traceback (most recent call last)",
      "Cell \u001b[1;32mIn[7], line 2\u001b[0m\n\u001b[0;32m      1\u001b[0m \u001b[38;5;28;01mif\u001b[39;00m \u001b[38;5;18m__name__\u001b[39m \u001b[38;5;241m==\u001b[39m \u001b[38;5;124m\"\u001b[39m\u001b[38;5;124m__main__\u001b[39m\u001b[38;5;124m\"\u001b[39m:\n\u001b[1;32m----> 2\u001b[0m     \u001b[43mmain\u001b[49m\u001b[43m(\u001b[49m\u001b[43m)\u001b[49m\n",
      "Cell \u001b[1;32mIn[3], line 8\u001b[0m, in \u001b[0;36mmain\u001b[1;34m()\u001b[0m\n\u001b[0;32m      6\u001b[0m gs \u001b[38;5;241m=\u001b[39m GameState()\n\u001b[0;32m      7\u001b[0m \u001b[38;5;66;03m# print(gs.board)\u001b[39;00m\n\u001b[1;32m----> 8\u001b[0m validMoves \u001b[38;5;241m=\u001b[39m \u001b[43mgs\u001b[49m\u001b[38;5;241;43m.\u001b[39;49m\u001b[43mgetValidMoves\u001b[49m\u001b[43m(\u001b[49m\u001b[43m)\u001b[49m\n\u001b[0;32m      9\u001b[0m moveMade \u001b[38;5;241m=\u001b[39m \u001b[38;5;28;01mFalse\u001b[39;00m \u001b[38;5;66;03m#to check if a move is made or not and only generate valid moves when a move is made\u001b[39;00m\n\u001b[0;32m     10\u001b[0m loadImages()\n",
      "File \u001b[1;32mC:\\Program Files\\KMSpico\\temp\\ipykernel_5444\\2891309351.py:40\u001b[0m, in \u001b[0;36mGameState.getValidMoves\u001b[1;34m(self)\u001b[0m\n\u001b[0;32m     39\u001b[0m \u001b[38;5;28;01mdef\u001b[39;00m \u001b[38;5;21mgetValidMoves\u001b[39m(\u001b[38;5;28mself\u001b[39m):\n\u001b[1;32m---> 40\u001b[0m     moves \u001b[38;5;241m=\u001b[39m \u001b[38;5;28;43mself\u001b[39;49m\u001b[38;5;241;43m.\u001b[39;49m\u001b[43mgetAllPossibleMoves\u001b[49m\u001b[43m(\u001b[49m\u001b[43m)\u001b[49m\n\u001b[0;32m     41\u001b[0m     \u001b[38;5;28;01mfor\u001b[39;00m i \u001b[38;5;129;01min\u001b[39;00m \u001b[38;5;28mrange\u001b[39m(\u001b[38;5;28mlen\u001b[39m(moves) \u001b[38;5;241m-\u001b[39m \u001b[38;5;241m1\u001b[39m, \u001b[38;5;241m-\u001b[39m\u001b[38;5;241m1\u001b[39m, \u001b[38;5;241m-\u001b[39m\u001b[38;5;241m1\u001b[39m):\n\u001b[0;32m     42\u001b[0m         \u001b[38;5;28mself\u001b[39m\u001b[38;5;241m.\u001b[39mmakeMove(moves[i])\n",
      "File \u001b[1;32mC:\\Program Files\\KMSpico\\temp\\ipykernel_5444\\2891309351.py:85\u001b[0m, in \u001b[0;36mGameState.getAllPossibleMoves\u001b[1;34m(self)\u001b[0m\n\u001b[0;32m     83\u001b[0m                 \u001b[38;5;28mself\u001b[39m\u001b[38;5;241m.\u001b[39mgetQueenMoves(row, col, moves)\n\u001b[0;32m     84\u001b[0m             \u001b[38;5;28;01melif\u001b[39;00m piece \u001b[38;5;241m==\u001b[39m \u001b[38;5;124m'\u001b[39m\u001b[38;5;124mK\u001b[39m\u001b[38;5;124m'\u001b[39m:\n\u001b[1;32m---> 85\u001b[0m                 \u001b[38;5;28;43mself\u001b[39;49m\u001b[38;5;241;43m.\u001b[39;49m\u001b[43mgetKingMoves\u001b[49m\u001b[43m(\u001b[49m\u001b[43mrow\u001b[49m\u001b[43m,\u001b[49m\u001b[43m \u001b[49m\u001b[43mcol\u001b[49m\u001b[43m,\u001b[49m\u001b[43m \u001b[49m\u001b[43mmoves\u001b[49m\u001b[43m)\u001b[49m\n\u001b[0;32m     86\u001b[0m \u001b[38;5;28;01mreturn\u001b[39;00m moves\n",
      "File \u001b[1;32mC:\\Program Files\\KMSpico\\temp\\ipykernel_5444\\2891309351.py:196\u001b[0m, in \u001b[0;36mGameState.getKingMoves\u001b[1;34m(self, row, col, moves)\u001b[0m\n\u001b[0;32m    194\u001b[0m     enemyColor \u001b[38;5;241m=\u001b[39m \u001b[38;5;124m'\u001b[39m\u001b[38;5;124mw\u001b[39m\u001b[38;5;124m'\u001b[39m\n\u001b[0;32m    195\u001b[0m \u001b[38;5;28;01mfor\u001b[39;00m i \u001b[38;5;129;01min\u001b[39;00m \u001b[38;5;28mrange\u001b[39m(\u001b[38;5;241m8\u001b[39m):\n\u001b[1;32m--> 196\u001b[0m     endRow \u001b[38;5;241m=\u001b[39m row \u001b[38;5;241m+\u001b[39m \u001b[43md\u001b[49m[i][\u001b[38;5;241m0\u001b[39m]\n\u001b[0;32m    197\u001b[0m     endCol \u001b[38;5;241m=\u001b[39m col \u001b[38;5;241m+\u001b[39m d[i][\u001b[38;5;241m1\u001b[39m]\n\u001b[0;32m    198\u001b[0m     \u001b[38;5;28;01mif\u001b[39;00m \u001b[38;5;241m0\u001b[39m \u001b[38;5;241m<\u001b[39m\u001b[38;5;241m=\u001b[39m endRow \u001b[38;5;241m<\u001b[39m \u001b[38;5;241m8\u001b[39m \u001b[38;5;129;01mand\u001b[39;00m \u001b[38;5;241m0\u001b[39m \u001b[38;5;241m<\u001b[39m\u001b[38;5;241m=\u001b[39m endCol \u001b[38;5;241m<\u001b[39m \u001b[38;5;241m8\u001b[39m:\n",
      "\u001b[1;31mNameError\u001b[0m: name 'd' is not defined"
     ]
    }
   ],
   "source": [
    "if __name__ == \"__main__\":\n",
    "    main()"
   ]
  },
  {
   "cell_type": "code",
   "execution_count": null,
   "id": "0ba93125-8979-4173-8e17-2f2c4903b570",
   "metadata": {},
   "outputs": [],
   "source": []
  }
 ],
 "metadata": {
  "kernelspec": {
   "display_name": "Python 3 (ipykernel)",
   "language": "python",
   "name": "python3"
  },
  "language_info": {
   "codemirror_mode": {
    "name": "ipython",
    "version": 3
   },
   "file_extension": ".py",
   "mimetype": "text/x-python",
   "name": "python",
   "nbconvert_exporter": "python",
   "pygments_lexer": "ipython3",
   "version": "3.12.3"
  }
 },
 "nbformat": 4,
 "nbformat_minor": 5
}
