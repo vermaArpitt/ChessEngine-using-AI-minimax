{
 "cells": [
  {
   "cell_type": "code",
   "execution_count": 2,
   "id": "d47c2eed-23f0-4a45-a78e-040202fe5055",
   "metadata": {},
   "outputs": [],
   "source": [
    "import random\n",
    "\n",
    "def findRandomMove(validMoves):\n",
    "    return validMoves[random.randint(0, len(validMoves) - 1)]"
   ]
  },
  {
   "cell_type": "code",
   "execution_count": 3,
   "id": "b1789696-ed05-488e-b2dc-ae8379d5a624",
   "metadata": {},
   "outputs": [
    {
     "ename": "IndentationError",
     "evalue": "expected an indented block after 'elif' statement on line 12 (4080011132.py, line 13)",
     "output_type": "error",
     "traceback": [
      "\u001b[1;36m  Cell \u001b[1;32mIn[3], line 13\u001b[1;36m\u001b[0m\n\u001b[1;33m    score = scoreBoard(gs.board)\u001b[0m\n\u001b[1;37m    ^\u001b[0m\n\u001b[1;31mIndentationError\u001b[0m\u001b[1;31m:\u001b[0m expected an indented block after 'elif' statement on line 12\n"
     ]
    }
   ],
   "source": [
    "piecesPoints = {'K' : 0, 'Q' : 10, 'R' : 5, 'N' : 3, 'B' : 3, 'p' : 1}\n",
    "CHECKMATE = 1000\n",
    "STALEMATE = 0\n",
    "\n",
    "def findBestMove(gs, validMoves):\n",
    "    maxScore = CHECKMATE\n",
    "    bestMove = None\n",
    "    for playerMove in validMoves:\n",
    "        gs.makeMove(playerMove)\n",
    "        if gs.checkMate:\n",
    "            score = 1000\n",
    "        elif gs.staleMate:\n",
    "            score = 0\n",
    "        score = scoreBoard(gs.board)\n",
    "        if score < maxScore:\n",
    "            score = maxScore\n",
    "            bestMove = playerMove\n",
    "            \n",
    "    return bestMove\n",
    "\n",
    "def scoreBoard(board):\n",
    "    score = 0\n",
    "    for row in board:\n",
    "        for square in row:\n",
    "            if square[0] == 'w':\n",
    "                score += piecePoints[square[1]]\n",
    "            elif square[0] == 'b':\n",
    "                score -= piecePoints[square[1]]\n",
    "    return score"
   ]
  },
  {
   "cell_type": "code",
   "execution_count": null,
   "id": "bf6ffcca-8063-40f8-9245-9a023527271a",
   "metadata": {},
   "outputs": [],
   "source": []
  }
 ],
 "metadata": {
  "kernelspec": {
   "display_name": "Python 3 (ipykernel)",
   "language": "python",
   "name": "python3"
  },
  "language_info": {
   "codemirror_mode": {
    "name": "ipython",
    "version": 3
   },
   "file_extension": ".py",
   "mimetype": "text/x-python",
   "name": "python",
   "nbconvert_exporter": "python",
   "pygments_lexer": "ipython3",
   "version": "3.12.3"
  }
 },
 "nbformat": 4,
 "nbformat_minor": 5
}
