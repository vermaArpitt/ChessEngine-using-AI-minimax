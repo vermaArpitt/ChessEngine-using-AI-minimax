{
 "cells": [
  {
   "cell_type": "code",
   "execution_count": 1,
   "id": "96f1b3ba-7aae-466e-aebd-d2ee07f6ff70",
   "metadata": {},
   "outputs": [],
   "source": [
    "class GameState():\n",
    "    def __init__(self):\n",
    "        self.board = [\n",
    "            ['bR','bN','bB','bQ','bK','bB','bN','bR'],\n",
    "            ['bp' for _ in range(8)],\n",
    "            ['--' for _ in range(8)],\n",
    "            ['--' for _ in range(8)],\n",
    "            ['--' for _ in range(8)],\n",
    "            ['--' for _ in range(8)],\n",
    "            ['wp' for _ in range(8)],\n",
    "            ['wR','wN','wB','wQ','wK','wB','wN','wR'],\n",
    "        ]\n",
    "        self.whiteToMove = True\n",
    "        self.eventLog = []\n",
    "\n",
    "    def makeMove(self, move):\n",
    "        self.board[move.startRow][move.startCol] = \"--\"\n",
    "        self.board[move.endRow][move.endCol] = move.pieceMoved\n",
    "        self.eventLog.append(move)\n",
    "        self.whiteToMove = not self.whiteToMove\n",
    "\n",
    "    def undoMove(self):\n",
    "        if len(self.eventLog) != 0:\n",
    "            move = self.eventLog.pop()\n",
    "            self.board[move.startRow][move.startCol] = move.pieceMoved\n",
    "            self.board[move.endRow][move.endCol] = move.pieceCaptured\n",
    "            self.whiteToMove = not self.whiteToMove\n",
    "            print(\"Undo last move\")"
   ]
  },
  {
   "cell_type": "code",
   "execution_count": 2,
   "id": "9ab8784a-ad21-43ca-b454-daef2b59c52d",
   "metadata": {},
   "outputs": [],
   "source": [
    "class Move():\n",
    "\n",
    "    ranksToRows = {\"1\" : 7, \"2\" : 6, \"3\" : 5, \"4\" : 4, \"5\" : 3, \"6\" : 2, \"7\" : 1, \"8\" : 0}\n",
    "    rowsToRanks = {v : k for k, v in ranksToRows.items()}\n",
    "\n",
    "    filesToCols = {\"a\" : 0, \"b\" : 1, \"c\" : 2, \"d\" : 3, \"e\" : 4, \"f\" : 5, \"g\" : 6, \"h\" : 7}\n",
    "    colsToFiles = {c : f for f, c in filesToCols.items()}\n",
    "    \n",
    "    def __init__(self, startSq, endSq, board):\n",
    "        self.startRow = startSq[0]\n",
    "        self.startCol = startSq[1]\n",
    "        self.endRow = endSq[0]\n",
    "        self.endCol = endSq[1]\n",
    "        self.pieceMoved = board[self.startRow][self.startCol]\n",
    "        self.pieceCaptured = board[self.endRow][self.endCol]\n",
    "\n",
    "    def getNotation(self):\n",
    "        return self.getFileRank(self.startRow, self.startCol) + self.getFileRank(self.endRow, self.endCol)\n",
    "\n",
    "    def getFileRank(self, r, c):\n",
    "        return self.colsToFiles[c] + self.rowsToRanks[r]\n",
    "    "
   ]
  }
 ],
 "metadata": {
  "kernelspec": {
   "display_name": "Python 3 (ipykernel)",
   "language": "python",
   "name": "python3"
  },
  "language_info": {
   "codemirror_mode": {
    "name": "ipython",
    "version": 3
   },
   "file_extension": ".py",
   "mimetype": "text/x-python",
   "name": "python",
   "nbconvert_exporter": "python",
   "pygments_lexer": "ipython3",
   "version": "3.12.3"
  }
 },
 "nbformat": 4,
 "nbformat_minor": 5
}
