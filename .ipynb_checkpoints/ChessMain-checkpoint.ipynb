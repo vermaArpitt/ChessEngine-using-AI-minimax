{
 "cells": [
  {
   "cell_type": "code",
   "execution_count": 1,
   "id": "ed33da4b-6ad3-417c-a7ef-cac06725a4f3",
   "metadata": {},
   "outputs": [
    {
     "name": "stdout",
     "output_type": "stream",
     "text": [
      "pygame 2.5.2 (SDL 2.28.3, Python 3.12.3)\n",
      "Hello from the pygame community. https://www.pygame.org/contribute.html\n"
     ]
    }
   ],
   "source": [
    "import pygame as p\n",
    "%run ChessEngine.ipynb\n",
    "\n",
    "WIDTH = HEIGHT = 512\n",
    "CELLS = 8\n",
    "SQ_SIZE = HEIGHT // CELLS\n",
    "MAX_FPS = 15\n",
    "IMAGES = {}\n",
    "GREEN = (76, 153, 0)\n",
    "WHITE = (229, 255, 204)"
   ]
  },
  {
   "cell_type": "code",
   "execution_count": 2,
   "id": "3585c4f0-6ebf-4026-932b-a7462241d40c",
   "metadata": {},
   "outputs": [],
   "source": [
    "def loadImages():\n",
    "    pieces = ['bR','bN','bB','bQ','bK','bp','wR','wN','wB','wQ','wK','wp']\n",
    "    for piece in pieces:\n",
    "        IMAGES[piece] = p.image.load(\"images/\" + piece + \".png\")"
   ]
  },
  {
   "cell_type": "code",
   "execution_count": 3,
   "id": "9bf904e0-50b2-48e0-8102-ee27e19e5fda",
   "metadata": {},
   "outputs": [],
   "source": [
    "def main():\n",
    "    p.init()\n",
    "    screen = p.display.set_mode((WIDTH, HEIGHT))\n",
    "    clock = p.time.Clock()\n",
    "    running = True\n",
    "    gs = GameState()\n",
    "    # print(gs.board)\n",
    "    loadImages()\n",
    "\n",
    "    sqSelected = ()\n",
    "    playerClicks = []\n",
    "    while running:\n",
    "        for event in p.event.get():\n",
    "            if event.type == p.QUIT:\n",
    "                running = False\n",
    "            #mouse handlersss\n",
    "            elif event.type == p.MOUSEBUTTONDOWN:\n",
    "                location = p.mouse.get_pos()\n",
    "                col = location[0] // SQ_SIZE\n",
    "                row = location[1] // SQ_SIZE\n",
    "                if sqSelected == (row, col):\n",
    "                    sqSelected = ()\n",
    "                    playerClicks = []\n",
    "                else:\n",
    "                    sqSelected = (row, col)\n",
    "                    playerClicks.append(sqSelected)\n",
    "                if len(playerClicks) == 2:\n",
    "                    move = Move(playerClicks[0], playerClicks[1], gs.board)\n",
    "                    print(move.getNotation())\n",
    "                    gs.makeMove(move)\n",
    "                    playerClicks = []\n",
    "                    sqSelected = ()\n",
    "            elif event.type == p.KEYDOWN:\n",
    "                if event.key == p.K_z:   #undo move Z\n",
    "                    gs.undoMove()\n",
    "                    \n",
    "        drawGameState(screen, gs)\n",
    "        clock.tick(MAX_FPS)\n",
    "        p.display.flip() \n",
    "    p.quit()"
   ]
  },
  {
   "cell_type": "code",
   "execution_count": 4,
   "id": "abb96c99-9ba7-4e24-8549-2dce2c1db08b",
   "metadata": {},
   "outputs": [],
   "source": [
    "def drawGameState(screen, gs):\n",
    "    drawSquares(screen)\n",
    "    drawPieces(screen, gs.board)\n",
    "    "
   ]
  },
  {
   "cell_type": "code",
   "execution_count": 5,
   "id": "0d554fae-d700-4968-ac74-3cbc31d4139f",
   "metadata": {},
   "outputs": [],
   "source": [
    "def drawSquares(screen):\n",
    "    colors = [p.Color(WHITE),p.Color(GREEN)]\n",
    "    for row in range(CELLS):\n",
    "        for col in range(CELLS):\n",
    "            color = colors[(row + col) % 2]\n",
    "            p.draw.rect(screen, color, p.Rect(col * SQ_SIZE, row * SQ_SIZE, SQ_SIZE, SQ_SIZE))"
   ]
  },
  {
   "cell_type": "code",
   "execution_count": 6,
   "id": "b013344a-1079-44d1-8397-86fd9a2e988a",
   "metadata": {},
   "outputs": [],
   "source": [
    "def drawPieces(screen, board):\n",
    "    for row in range(CELLS):\n",
    "        for col in range(CELLS):\n",
    "            piece = board[row][col]\n",
    "            if piece != \"--\":\n",
    "                screen.blit(IMAGES[piece], p.Rect(col * SQ_SIZE, row * SQ_SIZE, SQ_SIZE, SQ_SIZE))\n",
    "                "
   ]
  },
  {
   "cell_type": "code",
   "execution_count": 7,
   "id": "293dd484-5c91-4baa-8ef6-9022d898ddd7",
   "metadata": {},
   "outputs": [
    {
     "name": "stdout",
     "output_type": "stream",
     "text": [
      "e2e4\n"
     ]
    },
    {
     "ename": "AttributeError",
     "evalue": "'Move' object has no attribute 'starCol'",
     "output_type": "error",
     "traceback": [
      "\u001b[1;31m---------------------------------------------------------------------------\u001b[0m",
      "\u001b[1;31mAttributeError\u001b[0m                            Traceback (most recent call last)",
      "Cell \u001b[1;32mIn[7], line 2\u001b[0m\n\u001b[0;32m      1\u001b[0m \u001b[38;5;28;01mif\u001b[39;00m \u001b[38;5;18m__name__\u001b[39m \u001b[38;5;241m==\u001b[39m \u001b[38;5;124m\"\u001b[39m\u001b[38;5;124m__main__\u001b[39m\u001b[38;5;124m\"\u001b[39m:\n\u001b[1;32m----> 2\u001b[0m     \u001b[43mmain\u001b[49m\u001b[43m(\u001b[49m\u001b[43m)\u001b[49m\n",
      "Cell \u001b[1;32mIn[3], line 35\u001b[0m, in \u001b[0;36mmain\u001b[1;34m()\u001b[0m\n\u001b[0;32m     33\u001b[0m     \u001b[38;5;28;01melif\u001b[39;00m event\u001b[38;5;241m.\u001b[39mtype \u001b[38;5;241m==\u001b[39m p\u001b[38;5;241m.\u001b[39mKEYDOWN:\n\u001b[0;32m     34\u001b[0m         \u001b[38;5;28;01mif\u001b[39;00m event\u001b[38;5;241m.\u001b[39mkey \u001b[38;5;241m==\u001b[39m p\u001b[38;5;241m.\u001b[39mK_z:   \u001b[38;5;66;03m#undo move Z\u001b[39;00m\n\u001b[1;32m---> 35\u001b[0m             \u001b[43mgs\u001b[49m\u001b[38;5;241;43m.\u001b[39;49m\u001b[43mundoMove\u001b[49m\u001b[43m(\u001b[49m\u001b[43m)\u001b[49m\n\u001b[0;32m     37\u001b[0m drawGameState(screen, gs)\n\u001b[0;32m     38\u001b[0m clock\u001b[38;5;241m.\u001b[39mtick(MAX_FPS)\n",
      "File \u001b[1;32mC:\\Program Files\\KMSpico\\temp\\ipykernel_3520\\3905234218.py:25\u001b[0m, in \u001b[0;36mGameState.undoMove\u001b[1;34m(self)\u001b[0m\n\u001b[0;32m     23\u001b[0m \u001b[38;5;28;01mif\u001b[39;00m \u001b[38;5;28mlen\u001b[39m(\u001b[38;5;28mself\u001b[39m\u001b[38;5;241m.\u001b[39meventLog) \u001b[38;5;241m!=\u001b[39m \u001b[38;5;241m0\u001b[39m:\n\u001b[0;32m     24\u001b[0m     move \u001b[38;5;241m=\u001b[39m \u001b[38;5;28mself\u001b[39m\u001b[38;5;241m.\u001b[39meventLog\u001b[38;5;241m.\u001b[39mpop()\n\u001b[1;32m---> 25\u001b[0m     \u001b[38;5;28mself\u001b[39m\u001b[38;5;241m.\u001b[39mboard[move\u001b[38;5;241m.\u001b[39mstartRow][\u001b[43mmove\u001b[49m\u001b[38;5;241;43m.\u001b[39;49m\u001b[43mstarCol\u001b[49m] \u001b[38;5;241m=\u001b[39m move\u001b[38;5;241m.\u001b[39mpieceMoved\n\u001b[0;32m     26\u001b[0m     \u001b[38;5;28mself\u001b[39m\u001b[38;5;241m.\u001b[39mboard[move\u001b[38;5;241m.\u001b[39mendRow][move\u001b[38;5;241m.\u001b[39mendCol] \u001b[38;5;241m=\u001b[39m move\u001b[38;5;241m.\u001b[39mpieceCaptured\n\u001b[0;32m     27\u001b[0m     \u001b[38;5;28mself\u001b[39m\u001b[38;5;241m.\u001b[39mwhiteToMove \u001b[38;5;241m=\u001b[39m \u001b[38;5;129;01mnot\u001b[39;00m \u001b[38;5;28mself\u001b[39m\u001b[38;5;241m.\u001b[39mwhiteToMove\n",
      "\u001b[1;31mAttributeError\u001b[0m: 'Move' object has no attribute 'starCol'"
     ]
    }
   ],
   "source": [
    "if __name__ == \"__main__\":\n",
    "    main()"
   ]
  },
  {
   "cell_type": "code",
   "execution_count": null,
   "id": "0ba93125-8979-4173-8e17-2f2c4903b570",
   "metadata": {},
   "outputs": [],
   "source": []
  }
 ],
 "metadata": {
  "kernelspec": {
   "display_name": "Python 3 (ipykernel)",
   "language": "python",
   "name": "python3"
  },
  "language_info": {
   "codemirror_mode": {
    "name": "ipython",
    "version": 3
   },
   "file_extension": ".py",
   "mimetype": "text/x-python",
   "name": "python",
   "nbconvert_exporter": "python",
   "pygments_lexer": "ipython3",
   "version": "3.12.3"
  }
 },
 "nbformat": 4,
 "nbformat_minor": 5
}
